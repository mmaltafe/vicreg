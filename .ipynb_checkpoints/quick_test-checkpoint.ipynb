{
 "cells": [
  {
   "cell_type": "code",
   "execution_count": null,
   "metadata": {},
   "outputs": [],
   "source": [
    "from vicreg_timeseries import *\n",
    "import tensorflow as tf\n",
    "import numpy as np\n",
    "import torch\n",
    "from torch import nn\n",
    "\n",
    "from main_vicreg import VICReg"
   ]
  },
  {
   "cell_type": "code",
   "execution_count": null,
   "metadata": {},
   "outputs": [],
   "source": [
    "from tensorflow.python.framework.ops import disable_eager_execution\n",
    "disable_eager_execution()\n",
    "\n",
    "try:\n",
    "    from tensorflow.compat.v1 import ConfigProto\n",
    "    from tensorflow.compat.v1 import InteractiveSession\n",
    "\n",
    "    config = ConfigProto()\n",
    "    config.gpu_options.allow_growth = True\n",
    "    session = InteractiveSession(config=config)\n",
    "except Exception as e:\n",
    "    print(e)\n",
    "    print(\"Not possible to set gpu allow growth\")\n",
    "    \n",
    "    \n",
    "from tensorflow.keras import backend as K\n",
    "print(\"-------------------------------------------\")\n",
    "print(\"GPU available: \", tf.config.list_physical_devices('GPU'))\n",
    "print(\"Num GPUs Available: \", len(tf.config.experimental.list_physical_devices('GPU')))\n",
    "print(\"Keras backend: \", K.backend())\n",
    "print(\"-------------------------------------------\")"
   ]
  },
  {
   "cell_type": "code",
   "execution_count": null,
   "metadata": {},
   "outputs": [],
   "source": [
    "X_train, y_train, X_test, y_test = read_data(0)\n",
    "\n",
    "\n",
    "X_train_0 = sliding_window(X_train, 0.5)\n",
    "X_train_1 = sliding_window(X_train, 0.5)\n",
    "\n",
    "X_test_0 = sliding_window(X_test, 0.5)\n",
    "X_test_1 = sliding_window(X_test, 0.5)\n",
    "\n",
    "X_train_0 = reshape_dataset(X_train_0)\n",
    "X_test_0 = reshape_dataset(X_test_0)\n",
    "\n",
    "\n",
    "X_train_1 = reshape_dataset(X_train_1)\n",
    "X_test_1 = reshape_dataset(X_test_1)"
   ]
  },
  {
   "cell_type": "code",
   "execution_count": null,
   "metadata": {},
   "outputs": [],
   "source": [
    "ts_num = 20\n",
    "ts_len = 3584\n",
    "Xy_train = X_train[:ts_num*ts_len, 2:]\n",
    "Xy_train = Xy_train.reshape(ts_num, 1, ts_len, 6)\n",
    "Xy_train = torch.from_numpy(Xy_train).float()"
   ]
  },
  {
   "cell_type": "code",
   "execution_count": null,
   "metadata": {},
   "outputs": [],
   "source": [
    "Xy_train.shape"
   ]
  },
  {
   "cell_type": "code",
   "execution_count": null,
   "metadata": {},
   "outputs": [],
   "source": [
    "X_train_0.shape"
   ]
  },
  {
   "cell_type": "code",
   "execution_count": null,
   "metadata": {},
   "outputs": [],
   "source": [
    "args = {'data-dir': 'Input/',\n",
    "       'exp-dir': 'Results/',\n",
    "       'log-freq-time': 60,\n",
    "       'arch': 'resnet50',\n",
    "       'mlp': '8192-8192-8192',\n",
    "       'epochs': 100,\n",
    "       'batch-size': 2048,\n",
    "       'base-lr': 0.2,\n",
    "       'wd': 1e-6,\n",
    "       'sim-coeff': 25.0,\n",
    "       'std-coeff': 25.0,\n",
    "       'cov-coeff': 1.0,\n",
    "       'num-workers': 1,\n",
    "       'device': 'cpu',\n",
    "       'world-size':1,\n",
    "       'local_rank':1,\n",
    "       'dist-url':'env://'}"
   ]
  },
  {
   "cell_type": "code",
   "execution_count": null,
   "metadata": {},
   "outputs": [],
   "source": [
    "import pandas as pd"
   ]
  },
  {
   "cell_type": "code",
   "execution_count": null,
   "metadata": {},
   "outputs": [],
   "source": [
    "pd.Series(args)"
   ]
  },
  {
   "cell_type": "code",
   "execution_count": null,
   "metadata": {},
   "outputs": [],
   "source": [
    "model = VICReg(pd.Series(args))"
   ]
  },
  {
   "cell_type": "code",
   "execution_count": null,
   "metadata": {
    "scrolled": false
   },
   "outputs": [],
   "source": [
    "model"
   ]
  },
  {
   "cell_type": "code",
   "execution_count": null,
   "metadata": {},
   "outputs": [],
   "source": [
    "loss = model.forward(X_train_0, Xy_train)"
   ]
  }
 ],
 "metadata": {
  "kernelspec": {
   "display_name": "VICReg",
   "language": "python",
   "name": "build_central"
  },
  "language_info": {
   "codemirror_mode": {
    "name": "ipython",
    "version": 3
   },
   "file_extension": ".py",
   "mimetype": "text/x-python",
   "name": "python",
   "nbconvert_exporter": "python",
   "pygments_lexer": "ipython3",
   "version": "3.7.13"
  }
 },
 "nbformat": 4,
 "nbformat_minor": 5
}
